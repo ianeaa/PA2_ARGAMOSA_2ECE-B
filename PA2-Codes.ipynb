{
 "cells": [
  {
   "cell_type": "code",
   "execution_count": 2,
   "id": "a3d53670-18c8-4d34-961d-b68c23c21fb5",
   "metadata": {},
   "outputs": [
    {
     "name": "stdout",
     "output_type": "stream",
     "text": [
      "[[-0.18548914  0.68345288 -0.4983628   0.22185654 -0.25994831]\n",
      " [ 0.86004558 -1.22130247 -1.14165313 -1.44095775 -1.4835433 ]\n",
      " [ 1.57736008 -1.35022213  0.24998546 -0.31058365 -0.59979231]\n",
      " [ 1.39083225 -0.53561891  1.38890792  1.56298723  1.57628824]\n",
      " [-0.30166309 -0.44915232  0.59273879  0.76328536 -1.08945102]]\n"
     ]
    }
   ],
   "source": [
    "import numpy as np\n",
    "# generate random numbers in a 5x5 array\n",
    "random = np.random.random((5,5))\n",
    "# set the random array to variable X\n",
    "X = random\n",
    "# perform the formula: Z = (X - mean) / standev\n",
    "Z = (X - np.mean(X)) / np.std(X)\n",
    "# output\n",
    "print(Z)\n",
    "# save as .npy \n",
    "np.save('X_normalized', Z)"
   ]
  },
  {
   "cell_type": "code",
   "execution_count": 4,
   "id": "da62f412-47a8-4309-9c77-6c54019d6f78",
   "metadata": {},
   "outputs": [
    {
     "name": "stdout",
     "output_type": "stream",
     "text": [
      "[[    1     4     9    16    25    36    49    64    81   100]\n",
      " [  121   144   169   196   225   256   289   324   361   400]\n",
      " [  441   484   529   576   625   676   729   784   841   900]\n",
      " [  961  1024  1089  1156  1225  1296  1369  1444  1521  1600]\n",
      " [ 1681  1764  1849  1936  2025  2116  2209  2304  2401  2500]\n",
      " [ 2601  2704  2809  2916  3025  3136  3249  3364  3481  3600]\n",
      " [ 3721  3844  3969  4096  4225  4356  4489  4624  4761  4900]\n",
      " [ 5041  5184  5329  5476  5625  5776  5929  6084  6241  6400]\n",
      " [ 6561  6724  6889  7056  7225  7396  7569  7744  7921  8100]\n",
      " [ 8281  8464  8649  8836  9025  9216  9409  9604  9801 10000]]\n",
      " \n",
      "Numbers divisible by 3\n",
      " \n",
      "[   9   36   81  144  225  324  441  576  729  900 1089 1296 1521 1764\n",
      " 2025 2304 2601 2916 3249 3600 3969 4356 4761 5184 5625 6084 6561 7056\n",
      " 7569 8100 8649 9216 9801]\n"
     ]
    }
   ],
   "source": [
    "import numpy as np\n",
    "# create a 10x10 matrix with the squares of the number and use the arange function to limit it from 1 to 100\n",
    "numbers = np.arange(1,101)\n",
    "squared = numbers**2\n",
    "# use reshape to make it into a 10x10 table\n",
    "table = squared.reshape(10,10)\n",
    "# print the table\n",
    "print(table)\n",
    "\n",
    "# use modulo to separate the numbers that are divisible by 3\n",
    "three = table[table % 3 == 0]\n",
    "print(\" \")\n",
    "# print\n",
    "print(\"Numbers divisible by 3\")\n",
    "print(\" \")\n",
    "print(three)\n",
    "# save as .npy\n",
    "np.save(\"div_by_3\", three)"
   ]
  },
  {
   "cell_type": "code",
   "execution_count": 14,
   "id": "c1377aa8-47bb-406f-a45b-0f194bc9cf0d",
   "metadata": {},
   "outputs": [
    {
     "data": {
      "text/plain": [
       "array([[-0.18548914,  0.68345288, -0.4983628 ,  0.22185654, -0.25994831],\n",
       "       [ 0.86004558, -1.22130247, -1.14165313, -1.44095775, -1.4835433 ],\n",
       "       [ 1.57736008, -1.35022213,  0.24998546, -0.31058365, -0.59979231],\n",
       "       [ 1.39083225, -0.53561891,  1.38890792,  1.56298723,  1.57628824],\n",
       "       [-0.30166309, -0.44915232,  0.59273879,  0.76328536, -1.08945102]])"
      ]
     },
     "execution_count": 14,
     "metadata": {},
     "output_type": "execute_result"
    }
   ],
   "source": [
    "# test if the file will load\n",
    "import numpy as np\n",
    "load = np.load('X_normalized.npy')\n",
    "load"
   ]
  },
  {
   "cell_type": "code",
   "execution_count": 12,
   "id": "da86da5f-239f-40de-8f17-5837d8a3718b",
   "metadata": {},
   "outputs": [
    {
     "data": {
      "text/plain": [
       "array([   9,   36,   81,  144,  225,  324,  441,  576,  729,  900, 1089,\n",
       "       1296, 1521, 1764, 2025, 2304, 2601, 2916, 3249, 3600, 3969, 4356,\n",
       "       4761, 5184, 5625, 6084, 6561, 7056, 7569, 8100, 8649, 9216, 9801])"
      ]
     },
     "execution_count": 12,
     "metadata": {},
     "output_type": "execute_result"
    }
   ],
   "source": [
    "# test if the file will load\n",
    "import numpy as np\n",
    "load = np.load('div_by_3.npy')\n",
    "load"
   ]
  },
  {
   "cell_type": "code",
   "execution_count": null,
   "id": "03270115-a6db-475b-970b-d7d1e9b5a991",
   "metadata": {},
   "outputs": [],
   "source": []
  }
 ],
 "metadata": {
  "kernelspec": {
   "display_name": "Python 3 (ipykernel)",
   "language": "python",
   "name": "python3"
  },
  "language_info": {
   "codemirror_mode": {
    "name": "ipython",
    "version": 3
   },
   "file_extension": ".py",
   "mimetype": "text/x-python",
   "name": "python",
   "nbconvert_exporter": "python",
   "pygments_lexer": "ipython3",
   "version": "3.12.4"
  }
 },
 "nbformat": 4,
 "nbformat_minor": 5
}
